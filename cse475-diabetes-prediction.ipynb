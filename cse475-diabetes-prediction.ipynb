{
 "cells": [
  {
   "cell_type": "code",
   "execution_count": 1,
   "id": "1b633a47",
   "metadata": {},
   "outputs": [
    {
     "name": "stdout",
     "output_type": "stream",
     "text": [
      "(268, 9) (500, 9)\n"
     ]
    }
   ],
   "source": [
    "import sklearn\n",
    "import pandas as pd\n",
    "from sklearn.model_selection import train_test_split\n",
    "from sklearn.preprocessing import LabelEncoder\n",
    "from sklearn import preprocessing\n",
    "import numpy as mp\n",
    "\n",
    "from sklearn.metrics import accuracy_score\n",
    "from sklearn.naive_bayes import GaussianNB\n",
    "\n",
    "data = pd.read_csv(\"diabetes.csv\")\n",
    "features = data.columns\n",
    "features = [x for x in features if x != 'Outcome']\n",
    "target = \"Outcome\"\n",
    "X = data[features]\n",
    "Y = data[target]\n",
    "\n",
    "#number of yes and no in the data set \n",
    "\n",
    "one_data = data[data['Outcome']==1]\n",
    "zero_data = data[data['Outcome']==0]\n",
    "\n",
    "print(one_data.shape,zero_data.shape)\n"
   ]
  },
  {
   "cell_type": "code",
   "execution_count": 2,
   "id": "483b3607",
   "metadata": {},
   "outputs": [
    {
     "name": "stdout",
     "output_type": "stream",
     "text": [
      "befor sampling Counter({0: 500, 1: 268})\n",
      "after sampling Counter({1: 500, 0: 500})\n",
      "over all shape of the data after sampling :  (1000, 8) (1000,)\n"
     ]
    }
   ],
   "source": [
    "#over sampling to balance the number of yes and no outcome \n",
    "\n",
    "from imblearn.over_sampling import RandomOverSampler\n",
    "from collections import Counter\n",
    "\n",
    "ros =  RandomOverSampler(sampling_strategy=1) # to produce equal number of row\n",
    "p,q = ros.fit_resample(X, Y)\n",
    "\n",
    "print(\"befor sampling {}\".format(Counter(Y)))\n",
    "print(\"after sampling {}\".format(Counter(q)))\n",
    "print(\"over all shape of the data after sampling : \",p.shape,q.shape)"
   ]
  },
  {
   "cell_type": "code",
   "execution_count": 3,
   "id": "9f9cbdb4",
   "metadata": {},
   "outputs": [],
   "source": [
    "#fill the missing value with mean value\n",
    "\n",
    "from sklearn.impute import SimpleImputer\n",
    "fill_null = SimpleImputer(missing_values=0, strategy = \"mean\")\n",
    "without_missing_value = fill_null.fit_transform(p)\n"
   ]
  },
  {
   "cell_type": "code",
   "execution_count": 4,
   "id": "6656d97f",
   "metadata": {},
   "outputs": [
    {
     "name": "stdout",
     "output_type": "stream",
     "text": [
      "(700, 8) (300, 8)\n"
     ]
    }
   ],
   "source": [
    "x_train, x_test, y_train, y_test = train_test_split(without_missing_value, q, test_size = 0.30)\n",
    "\n",
    "print(x_train.shape,x_test.shape)"
   ]
  },
  {
   "cell_type": "code",
   "execution_count": 5,
   "id": "0dffbfd2",
   "metadata": {},
   "outputs": [
    {
     "name": "stdout",
     "output_type": "stream",
     "text": [
      "confusion matrix : \n",
      " [[104  24]\n",
      " [ 55 117]]\n",
      "\n",
      "Classification report : \n",
      "               precision    recall  f1-score   support\n",
      "\n",
      "           0       0.65      0.81      0.72       128\n",
      "           1       0.83      0.68      0.75       172\n",
      "\n",
      "    accuracy                           0.74       300\n",
      "   macro avg       0.74      0.75      0.74       300\n",
      "weighted avg       0.75      0.74      0.74       300\n",
      "\n",
      "\n",
      "Accuracy using Naive Bayes:  74 %\n"
     ]
    }
   ],
   "source": [
    "#Naive Bayes \n",
    "\n",
    "nb=GaussianNB()\n",
    "nb= nb.fit(x_train,y_train)\n",
    "y_pred=nb.predict(x_test)\n",
    "\n",
    "#confusion matrix\n",
    "from sklearn import metrics\n",
    "from sklearn.metrics import accuracy_score\n",
    "from sklearn.metrics import confusion_matrix\n",
    "\n",
    "print(\"confusion matrix : \\n\",confusion_matrix(y_test,y_pred))\n",
    "print(\"\\nClassification report : \\n\",metrics.classification_report(y_test,y_pred))\n",
    "print(\"\\nAccuracy using Naive Bayes: \", round(accuracy_score(y_test, y_pred)*100), \"%\" )"
   ]
  },
  {
   "cell_type": "code",
   "execution_count": 1,
   "id": "95405269",
   "metadata": {},
   "outputs": [
    {
     "ename": "NameError",
     "evalue": "name 'nb' is not defined",
     "output_type": "error",
     "traceback": [
      "\u001b[1;31m---------------------------------------------------------------------------\u001b[0m",
      "\u001b[1;31mNameError\u001b[0m                                 Traceback (most recent call last)",
      "\u001b[1;32m<ipython-input-1-86905cacd832>\u001b[0m in \u001b[0;36m<module>\u001b[1;34m\u001b[0m\n\u001b[0;32m      2\u001b[0m \u001b[1;32mfrom\u001b[0m \u001b[0msklearn\u001b[0m\u001b[1;33m.\u001b[0m\u001b[0mmodel_selection\u001b[0m \u001b[1;32mimport\u001b[0m \u001b[0mKFold\u001b[0m\u001b[1;33m\u001b[0m\u001b[1;33m\u001b[0m\u001b[0m\n\u001b[0;32m      3\u001b[0m \u001b[0mkf\u001b[0m \u001b[1;33m=\u001b[0m \u001b[0mKFold\u001b[0m\u001b[1;33m(\u001b[0m\u001b[1;36m10\u001b[0m\u001b[1;33m)\u001b[0m\u001b[1;33m\u001b[0m\u001b[1;33m\u001b[0m\u001b[0m\n\u001b[1;32m----> 4\u001b[1;33m \u001b[0mresult\u001b[0m \u001b[1;33m=\u001b[0m \u001b[0mcross_val_score\u001b[0m\u001b[1;33m(\u001b[0m\u001b[0mnb\u001b[0m\u001b[1;33m,\u001b[0m\u001b[0mx_train\u001b[0m\u001b[1;33m,\u001b[0m\u001b[0my_train\u001b[0m\u001b[1;33m,\u001b[0m \u001b[0mcv\u001b[0m \u001b[1;33m=\u001b[0m \u001b[0mkf\u001b[0m \u001b[1;33m)\u001b[0m \u001b[1;31m#cv = cross val(how many train and test are there)\u001b[0m\u001b[1;33m\u001b[0m\u001b[1;33m\u001b[0m\u001b[0m\n\u001b[0m\u001b[0;32m      5\u001b[0m \u001b[0mprint\u001b[0m\u001b[1;33m(\u001b[0m\u001b[0mresult\u001b[0m\u001b[1;33m)\u001b[0m\u001b[1;33m\u001b[0m\u001b[1;33m\u001b[0m\u001b[0m\n\u001b[0;32m      6\u001b[0m \u001b[0mprint\u001b[0m\u001b[1;33m(\u001b[0m\u001b[1;34m\"average Accuracy using cross validation : \\n\"\u001b[0m\u001b[1;33m,\u001b[0m\u001b[0mround\u001b[0m\u001b[1;33m(\u001b[0m\u001b[0mmp\u001b[0m\u001b[1;33m.\u001b[0m\u001b[0mmean\u001b[0m\u001b[1;33m(\u001b[0m\u001b[0mresult\u001b[0m\u001b[1;33m)\u001b[0m\u001b[1;33m*\u001b[0m\u001b[1;36m100\u001b[0m\u001b[1;33m)\u001b[0m\u001b[1;33m,\u001b[0m\u001b[1;34m\"%\"\u001b[0m\u001b[1;33m)\u001b[0m\u001b[1;33m\u001b[0m\u001b[1;33m\u001b[0m\u001b[0m\n",
      "\u001b[1;31mNameError\u001b[0m: name 'nb' is not defined"
     ]
    }
   ],
   "source": [
    "from sklearn.model_selection import cross_val_score\n",
    "from sklearn.model_selection import KFold\n",
    "kf = KFold(10)\n",
    "result = cross_val_score(nb,x_train,y_train, cv = kf ) #cv = cross val(how many train and test are there)\n",
    "print(result)\n",
    "print(\"average Accuracy using cross validation : \\n\",round(mp.mean(result)*100),\"%\")"
   ]
  },
  {
   "cell_type": "code",
   "execution_count": 7,
   "id": "45d4f996",
   "metadata": {},
   "outputs": [
    {
     "name": "stdout",
     "output_type": "stream",
     "text": [
      "confusion matrix : \n",
      " [[107  21]\n",
      " [ 45 127]]\n",
      "\n",
      "Classification report : \n",
      "               precision    recall  f1-score   support\n",
      "\n",
      "           0       0.70      0.84      0.76       128\n",
      "           1       0.86      0.74      0.79       172\n",
      "\n",
      "    accuracy                           0.78       300\n",
      "   macro avg       0.78      0.79      0.78       300\n",
      "weighted avg       0.79      0.78      0.78       300\n",
      "\n",
      "\n",
      "Accuracy using DecisionTree:  78 %\n"
     ]
    }
   ],
   "source": [
    "#Decision Tree\n",
    "\n",
    "from sklearn.tree import DecisionTreeClassifier\n",
    "dt= DecisionTreeClassifier(min_samples_split = 100, criterion='entropy')\n",
    "dt= dt.fit(x_train,y_train)\n",
    "y_pred=dt.predict(x_test)\n",
    "\n",
    "#confusion matrix\n",
    "print(\"confusion matrix : \\n\",confusion_matrix(y_test,y_pred))\n",
    "print(\"\\nClassification report : \\n\",metrics.classification_report(y_test,y_pred))\n",
    "print(\"\\nAccuracy using DecisionTree: \", round(accuracy_score(y_test, y_pred)*100), \"%\" )"
   ]
  },
  {
   "cell_type": "code",
   "execution_count": 2,
   "id": "07c43ca6",
   "metadata": {},
   "outputs": [
    {
     "ename": "NameError",
     "evalue": "name 'dt' is not defined",
     "output_type": "error",
     "traceback": [
      "\u001b[1;31m---------------------------------------------------------------------------\u001b[0m",
      "\u001b[1;31mNameError\u001b[0m                                 Traceback (most recent call last)",
      "\u001b[1;32m<ipython-input-2-3111077a94d4>\u001b[0m in \u001b[0;36m<module>\u001b[1;34m\u001b[0m\n\u001b[1;32m----> 1\u001b[1;33m \u001b[0mresult\u001b[0m \u001b[1;33m=\u001b[0m \u001b[0mcross_val_score\u001b[0m\u001b[1;33m(\u001b[0m\u001b[0mdt\u001b[0m\u001b[1;33m,\u001b[0m\u001b[0mx_train\u001b[0m\u001b[1;33m,\u001b[0m\u001b[0my_train\u001b[0m\u001b[1;33m,\u001b[0m \u001b[0mcv\u001b[0m \u001b[1;33m=\u001b[0m \u001b[0mkf\u001b[0m \u001b[1;33m)\u001b[0m \u001b[1;31m#cv = cross val(how many train and test are there)\u001b[0m\u001b[1;33m\u001b[0m\u001b[1;33m\u001b[0m\u001b[0m\n\u001b[0m\u001b[0;32m      2\u001b[0m \u001b[0mprint\u001b[0m\u001b[1;33m(\u001b[0m\u001b[0mresult\u001b[0m\u001b[1;33m)\u001b[0m\u001b[1;33m\u001b[0m\u001b[1;33m\u001b[0m\u001b[0m\n\u001b[0;32m      3\u001b[0m \u001b[0mprint\u001b[0m\u001b[1;33m(\u001b[0m\u001b[1;34m\"average Accuracy using cross validation : \\n\"\u001b[0m\u001b[1;33m,\u001b[0m\u001b[0mround\u001b[0m\u001b[1;33m(\u001b[0m\u001b[0mmp\u001b[0m\u001b[1;33m.\u001b[0m\u001b[0mmean\u001b[0m\u001b[1;33m(\u001b[0m\u001b[0mresult\u001b[0m\u001b[1;33m)\u001b[0m\u001b[1;33m*\u001b[0m\u001b[1;36m100\u001b[0m\u001b[1;33m)\u001b[0m\u001b[1;33m,\u001b[0m\u001b[1;34m\"%\"\u001b[0m\u001b[1;33m)\u001b[0m\u001b[1;33m\u001b[0m\u001b[1;33m\u001b[0m\u001b[0m\n",
      "\u001b[1;31mNameError\u001b[0m: name 'dt' is not defined"
     ]
    }
   ],
   "source": [
    "result = cross_val_score(dt,x_train,y_train, cv = kf ) #cv = cross val(how many train and test are there)\n",
    "print(result)\n",
    "print(\"average Accuracy using cross validation : \\n\",round(mp.mean(result)*100),\"%\")"
   ]
  },
  {
   "cell_type": "code",
   "execution_count": 9,
   "id": "0b61cbad",
   "metadata": {
    "scrolled": true
   },
   "outputs": [
    {
     "name": "stdout",
     "output_type": "stream",
     "text": [
      "confusion matrix : \n",
      " [[109  19]\n",
      " [ 16 156]]\n",
      "\n",
      "Classification report : \n",
      "               precision    recall  f1-score   support\n",
      "\n",
      "           0       0.87      0.85      0.86       128\n",
      "           1       0.89      0.91      0.90       172\n",
      "\n",
      "    accuracy                           0.88       300\n",
      "   macro avg       0.88      0.88      0.88       300\n",
      "weighted avg       0.88      0.88      0.88       300\n",
      "\n",
      "\n",
      "Accuracy using RandomForestClassifier:  88 %\n"
     ]
    }
   ],
   "source": [
    "from sklearn.ensemble import RandomForestClassifier\n",
    "rf = RandomForestClassifier(random_state=10)\n",
    "rf = rf.fit(x_train,y_train.ravel())\n",
    "y_pred=rf.predict(x_test)\n",
    "\n",
    "#confusion matrix\n",
    "print(\"confusion matrix : \\n\",confusion_matrix(y_test,y_pred))\n",
    "print(\"\\nClassification report : \\n\",metrics.classification_report(y_test,y_pred))\n",
    "print(\"\\nAccuracy using RandomForestClassifier: \", round(accuracy_score(y_test, y_pred)*100), \"%\" )"
   ]
  },
  {
   "cell_type": "code",
   "execution_count": 10,
   "id": "38a464a2",
   "metadata": {},
   "outputs": [
    {
     "name": "stdout",
     "output_type": "stream",
     "text": [
      "[0.82857143 0.72857143 0.77142857 0.85714286 0.82857143 0.75714286\n",
      " 0.88571429 0.84285714 0.78571429 0.8       ]\n",
      "average Accuracy using cross validation : \n",
      " 81 %\n"
     ]
    }
   ],
   "source": [
    "result = cross_val_score(rf,x_train,y_train, cv = kf ) #cv = cross val(how many train and test are there)\n",
    "print(result)\n",
    "print(\"average Accuracy using cross validation : \\n\",round(mp.mean(result)*100),\"%\")"
   ]
  },
  {
   "cell_type": "code",
   "execution_count": 11,
   "id": "d7b93926",
   "metadata": {},
   "outputs": [
    {
     "name": "stdout",
     "output_type": "stream",
     "text": [
      "confusion matrix : \n",
      " [[110  18]\n",
      " [ 36 136]]\n",
      "\n",
      "Classification report : \n",
      "               precision    recall  f1-score   support\n",
      "\n",
      "           0       0.75      0.86      0.80       128\n",
      "           1       0.88      0.79      0.83       172\n",
      "\n",
      "    accuracy                           0.82       300\n",
      "   macro avg       0.82      0.83      0.82       300\n",
      "weighted avg       0.83      0.82      0.82       300\n",
      "\n",
      "\n",
      "Accuracy using VotingClassifier:  82 %\n"
     ]
    }
   ],
   "source": [
    "from sklearn.ensemble import VotingClassifier\n",
    "\n",
    "vc = VotingClassifier(estimators = [('nb',nb),('dt',dt),('rf',rf)], voting = 'hard')\n",
    "model = vc \n",
    "vc = vc.fit(x_train,y_train)\n",
    "y_pred=vc.predict(x_test)\n",
    "\n",
    "#confusion matrix\n",
    "print(\"confusion matrix : \\n\",confusion_matrix(y_test,y_pred))\n",
    "print(\"\\nClassification report : \\n\",metrics.classification_report(y_test,y_pred))\n",
    "print(\"\\nAccuracy using VotingClassifier: \", round(accuracy_score(y_test, y_pred)*100), \"%\" )"
   ]
  },
  {
   "cell_type": "code",
   "execution_count": 12,
   "id": "a89f48a3",
   "metadata": {},
   "outputs": [
    {
     "name": "stdout",
     "output_type": "stream",
     "text": [
      "[0.74285714 0.68571429 0.81428571 0.68571429 0.81428571 0.75714286\n",
      " 0.71428571 0.78571429 0.82857143 0.78571429 0.74285714 0.81428571\n",
      " 0.7        0.71428571 0.91428571 0.85714286 0.65714286 0.7\n",
      " 0.77142857 0.72857143 0.72857143 0.7        0.78571429 0.72857143\n",
      " 0.67142857 0.77142857 0.78571429 0.77142857 0.84285714 0.82857143]\n",
      "average Accuracy:  76.09523809523809 %\n"
     ]
    }
   ],
   "source": [
    "\n",
    "from sklearn.model_selection import RepeatedStratifiedKFold\n",
    "cv = RepeatedStratifiedKFold(n_splits=10, n_repeats=3, random_state=1)\n",
    "scores = cross_val_score(model, x_train,y_train, scoring='accuracy', cv=cv, n_jobs=-1)\n",
    "print(scores)\n",
    "print(\"average Accuracy: \",scores.mean()*100,\"%\")"
   ]
  },
  {
   "cell_type": "code",
   "execution_count": null,
   "id": "5e4592dd",
   "metadata": {},
   "outputs": [],
   "source": []
  }
 ],
 "metadata": {
  "kernelspec": {
   "display_name": "Python 3",
   "language": "python",
   "name": "python3"
  },
  "language_info": {
   "codemirror_mode": {
    "name": "ipython",
    "version": 3
   },
   "file_extension": ".py",
   "mimetype": "text/x-python",
   "name": "python",
   "nbconvert_exporter": "python",
   "pygments_lexer": "ipython3",
   "version": "3.8.8"
  }
 },
 "nbformat": 4,
 "nbformat_minor": 5
}
